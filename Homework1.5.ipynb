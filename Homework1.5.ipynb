{
  "nbformat": 4,
  "nbformat_minor": 0,
  "metadata": {
    "colab": {
      "name": "Homework1.5.ipynb",
      "provenance": [],
      "authorship_tag": "ABX9TyPRmX/hRjKEL+aIn8NKBDfj",
      "include_colab_link": true
    },
    "kernelspec": {
      "name": "python3",
      "display_name": "Python 3"
    }
  },
  "cells": [
    {
      "cell_type": "markdown",
      "metadata": {
        "id": "view-in-github",
        "colab_type": "text"
      },
      "source": [
        "<a href=\"https://colab.research.google.com/github/KezhenLi/Homework1/blob/main/Homework1.5.ipynb\" target=\"_parent\"><img src=\"https://colab.research.google.com/assets/colab-badge.svg\" alt=\"Open In Colab\"/></a>"
      ]
    },
    {
      "cell_type": "code",
      "metadata": {
        "id": "h-1oTkDFsYPY"
      },
      "source": [
        "#What are the octal, binary and hexadecimal representations of the decimal numbers \n",
        "#13, 133, 1333 and 13333? Show your work\n",
        "#Decimal:13, Binary:1101, Octal:15, Hexadecimal:D\n",
        "#Decimal:133, Binary:10000101, Octal:205, Hexadecimal:85\n",
        "#Decimal:1333, Binary:10100110101, Octal:2465, Hexadecimal:535\n",
        "#Decimal:13333, Binary:11010000010101, Octal:32025, Hexadecimal:3415"
      ],
      "execution_count": null,
      "outputs": []
    }
  ]
}