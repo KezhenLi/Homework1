{
  "nbformat": 4,
  "nbformat_minor": 0,
  "metadata": {
    "colab": {
      "name": "Homework1.3.ipynb",
      "provenance": [],
      "authorship_tag": "ABX9TyM0ZA5Yjj/Oh99Q6gDhR4Ir",
      "include_colab_link": true
    },
    "kernelspec": {
      "name": "python3",
      "display_name": "Python 3"
    }
  },
  "cells": [
    {
      "cell_type": "markdown",
      "metadata": {
        "id": "view-in-github",
        "colab_type": "text"
      },
      "source": [
        "<a href=\"https://colab.research.google.com/github/KezhenLi/Homework1/blob/main/Homework1.3.ipynb\" target=\"_parent\"><img src=\"https://colab.research.google.com/assets/colab-badge.svg\" alt=\"Open In Colab\"/></a>"
      ]
    },
    {
      "cell_type": "code",
      "metadata": {
        "id": "sedKkV4pRxPr"
      },
      "source": [
        "# Find the smallest positive integer that is not exact in single precision.\n",
        "# From Value = [(-1)^sign]*[2^(e-127)]*[1+b*2^(-23)]\n",
        "# Where: sign = 0 or 1, for positive integer, [(-1)^sign]=1\n",
        "# let positive integer = a, \n",
        "# a = [2^(e-127)]*[1+b*2^(-23)]\n",
        "# b = [a/2^(e–127)-1]*2^23\n",
        "# If a < 2^(23+1), then (e−127) < 23 so b is an integer. Therefore a is representable.\n",
        "# If a = 2^(23+1), then (e−127) = 23+1 and b = [2^(23+1)/2^(23+1)-1]*2^23 = 0. Therefore a is representable.\n",
        "# If a = 2^(23+1) + 1 then (e−127) = 23+1 and \n",
        "# b = [[2^(23+1) + 1]/2^(23+1)-1]*2^23 = [1 + 1/2^(23+1) -1]*2^23 = 1/2. Therefore a is not representable.\n",
        "# The smallest positive integer that is not exact in single precision is a = 2^(23+1) + 1 = 16,777,217"
      ],
      "execution_count": null,
      "outputs": []
    }
  ]
}