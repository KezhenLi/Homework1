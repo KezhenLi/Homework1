{
  "nbformat": 4,
  "nbformat_minor": 0,
  "metadata": {
    "colab": {
      "name": "Homework1.1.ipynb",
      "provenance": [],
      "authorship_tag": "ABX9TyNcjPdWmwpIrLgFpZDg8Coc",
      "include_colab_link": true
    },
    "kernelspec": {
      "name": "python3",
      "display_name": "Python 3"
    }
  },
  "cells": [
    {
      "cell_type": "markdown",
      "metadata": {
        "id": "view-in-github",
        "colab_type": "text"
      },
      "source": [
        "<a href=\"https://colab.research.google.com/github/KezhenLi/Homework1.1/blob/main/Homework1.1.ipynb\" target=\"_parent\"><img src=\"https://colab.research.google.com/assets/colab-badge.svg\" alt=\"Open In Colab\"/></a>"
      ]
    },
    {
      "cell_type": "code",
      "metadata": {
        "id": "NAmodLku_iki"
      },
      "source": [
        "import time\n",
        "from math import pow"
      ],
      "execution_count": 41,
      "outputs": []
    },
    {
      "cell_type": "code",
      "metadata": {
        "colab": {
          "base_uri": "https://localhost:8080/"
        },
        "id": "afpkk1J-BlMd",
        "outputId": "a572c316-e99e-4b80-c69c-550a4d34441c"
      },
      "source": [
        "N = 2000000      #Program runs in about one second when N=2,000,000\n",
        "h = 2/N\n",
        "I = 0\n",
        "tic = time.perf_counter()\n",
        "for k in range(N):\n",
        "  xk = -1+ k*h\n",
        "  yk = pow((1-xk*xk),0.5)\n",
        "  I = I+yk*h\n",
        "toc = time.perf_counter()\n",
        "time_in_seconds = toc - tic\n",
        "print(I)\n",
        "print(\"time is \",time_in_seconds)\n"
      ],
      "execution_count": 46,
      "outputs": [
        {
          "output_type": "stream",
          "text": [
            "1.5707963262069677\n",
            "time is  1.0078526510001211\n"
          ],
          "name": "stdout"
        }
      ]
    }
  ]
}