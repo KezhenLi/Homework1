{
  "nbformat": 4,
  "nbformat_minor": 0,
  "metadata": {
    "colab": {
      "name": "Homework1.4.ipynb",
      "provenance": [],
      "authorship_tag": "ABX9TyN9oefF08m7gvICvJZAK80C",
      "include_colab_link": true
    },
    "kernelspec": {
      "name": "python3",
      "display_name": "Python 3"
    }
  },
  "cells": [
    {
      "cell_type": "markdown",
      "metadata": {
        "id": "view-in-github",
        "colab_type": "text"
      },
      "source": [
        "<a href=\"https://colab.research.google.com/github/KezhenLi/Homework1/blob/main/Homework1.4.ipynb\" target=\"_parent\"><img src=\"https://colab.research.google.com/assets/colab-badge.svg\" alt=\"Open In Colab\"/></a>"
      ]
    },
    {
      "cell_type": "code",
      "metadata": {
        "id": "i50CMxPdomW-"
      },
      "source": [
        "# What are the two’s complement representations for these decimals numbers? \n",
        "# Use 12 bits: 9, 455, 1021, -12, -1022, -1023.\n",
        "# Decimal:9, Binary:0000 0000 1001, Complement:1111 1111 0111\n",
        "# Decimal:455, Binary:0001 1100 0111, Complement:1110 0011 1001\n",
        "# Decimal:1021, Binary:0011 1111 1101, Complement:1100 0000 0011\n",
        "# Decimal:-12, Binary:1111 1111 0100, Complement:0000 0000 1100\n",
        "# Decimal:-1,022, Binary:1100 0000 0010, Complement:0011 1111 1110\n",
        "# Decimal:-1,023, Binary:1100 0000 0001, Complement:0011 1111 1111"
      ],
      "execution_count": null,
      "outputs": []
    }
  ]
}