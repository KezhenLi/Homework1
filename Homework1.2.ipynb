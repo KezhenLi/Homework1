{
  "nbformat": 4,
  "nbformat_minor": 0,
  "metadata": {
    "colab": {
      "name": "Homework1.2.ipynb",
      "provenance": [],
      "authorship_tag": "ABX9TyN/3Jn/fPCsgFVuXwhyC7Qk",
      "include_colab_link": true
    },
    "kernelspec": {
      "name": "python3",
      "display_name": "Python 3"
    }
  },
  "cells": [
    {
      "cell_type": "markdown",
      "metadata": {
        "id": "view-in-github",
        "colab_type": "text"
      },
      "source": [
        "<a href=\"https://colab.research.google.com/github/KezhenLi/Homework1/blob/main/Homework1.2.ipynb\" target=\"_parent\"><img src=\"https://colab.research.google.com/assets/colab-badge.svg\" alt=\"Open In Colab\"/></a>"
      ]
    },
    {
      "cell_type": "code",
      "metadata": {
        "id": "sedKkV4pRxPr"
      },
      "source": [
        "# Give the standard (IEEE) single precision binary representation of the machine approximation for −1/3.\n",
        "# 1 01111101 01010101010101010101011"
      ],
      "execution_count": null,
      "outputs": []
    }
  ]
}